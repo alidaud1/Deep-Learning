{
  "nbformat": 4,
  "nbformat_minor": 0,
  "metadata": {
    "colab": {
      "provenance": [],
      "gpuType": "T4"
    },
    "kernelspec": {
      "name": "python3",
      "display_name": "Python 3"
    },
    "language_info": {
      "name": "python"
    },
    "accelerator": "GPU"
  },
  "cells": [
    {
      "cell_type": "code",
      "source": [
        "!pip install -q kaggle\n",
        "\n",
        "from google.colab import files\n",
        "files.upload()"
      ],
      "metadata": {
        "id": "JrejFunx5sS7"
      },
      "execution_count": null,
      "outputs": []
    },
    {
      "cell_type": "code",
      "source": [
        "!mkdir ~/.kaggle\n",
        "!cp kaggle.json ~/.kaggle/\n",
        "!chmod 600 ~/.kaggle/kaggle.json\n",
        "\n",
        "!kaggle datasets download -d janmejaybhoi/cotton-disease-dataset"
      ],
      "metadata": {
        "id": "MboGDudU5up3",
        "colab": {
          "base_uri": "https://localhost:8080/"
        },
        "outputId": "d8595bee-63b2-4827-8115-58c469efd6d8"
      },
      "execution_count": null,
      "outputs": [
        {
          "output_type": "stream",
          "name": "stdout",
          "text": [
            "mkdir: cannot create directory ‘/root/.kaggle’: File exists\n",
            "cotton-disease-dataset.zip: Skipping, found more recently modified local copy (use --force to force download)\n"
          ]
        }
      ]
    },
    {
      "cell_type": "code",
      "execution_count": null,
      "metadata": {
        "id": "E-R4Ff6aj_SR"
      },
      "outputs": [],
      "source": [
        "!unzip /content/cotton-disease-dataset.zip"
      ]
    },
    {
      "cell_type": "code",
      "source": [
        "# importing liraries\n",
        "import tensorflow as tf\n",
        "from tensorflow import keras\n",
        "from keras.models import Sequential\n",
        "from keras.layers import Dense, Flatten\n",
        "from keras.losses import categorical_crossentropy\n",
        "from keras.preprocessing.image import ImageDataGenerator\n",
        "from keras.applications import InceptionV3"
      ],
      "metadata": {
        "id": "ozD-GtNi5eJI"
      },
      "execution_count": null,
      "outputs": []
    },
    {
      "cell_type": "code",
      "source": [
        "Inception_V3 = tf.keras.applications.InceptionV3(\n",
        "    weights = 'imagenet',\n",
        "    include_top = False,\n",
        "    input_shape = (224, 224, 3))"
      ],
      "metadata": {
        "id": "PaSTJnvuVErl"
      },
      "execution_count": null,
      "outputs": []
    },
    {
      "cell_type": "code",
      "source": [
        "Inception_V3.trainable = False"
      ],
      "metadata": {
        "id": "fn2Il_aKVjXp"
      },
      "execution_count": null,
      "outputs": []
    },
    {
      "cell_type": "code",
      "source": [
        "num_classes = 4  # Replace with the actual number of classes\n",
        "model = Sequential()\n",
        "model.add(Inception_V3)\n",
        "model.add(Flatten())\n",
        "model.add(Dense(256, activation='relu'))\n",
        "model.add(Dense(num_classes, activation='softmax'))  # Use num_classes instead of 1"
      ],
      "metadata": {
        "id": "S5AMngoMW43X"
      },
      "execution_count": null,
      "outputs": []
    },
    {
      "cell_type": "code",
      "source": [
        "# data augmentation\n",
        "batch_size = 64\n",
        "\n",
        "train_datagen = ImageDataGenerator(\n",
        "        rescale=1./255,\n",
        "        shear_range=0.2,\n",
        "        zoom_range=0.2,\n",
        "        horizontal_flip=True)\n",
        "\n",
        "test_datagen = ImageDataGenerator(rescale=1./255)\n",
        "\n",
        "train_generator = train_datagen.flow_from_directory(\n",
        "        '/content/Cotton Disease/train',\n",
        "        target_size=(224, 224),\n",
        "        batch_size=batch_size,\n",
        "        class_mode='categorical')\n",
        "\n",
        "validation_generator = test_datagen.flow_from_directory(\n",
        "        '/content/Cotton Disease/test',\n",
        "        target_size=(224, 224),\n",
        "        batch_size=batch_size,\n",
        "        class_mode='categorical')"
      ],
      "metadata": {
        "colab": {
          "base_uri": "https://localhost:8080/"
        },
        "id": "yLe7zQSaXJho",
        "outputId": "df086937-c360-4588-cdc3-fab093b56dee"
      },
      "execution_count": null,
      "outputs": [
        {
          "output_type": "stream",
          "name": "stdout",
          "text": [
            "Found 1951 images belonging to 4 classes.\n",
            "Found 106 images belonging to 4 classes.\n"
          ]
        }
      ]
    },
    {
      "cell_type": "code",
      "source": [
        "model.compile(optimizer='adam', loss='categorical_crossentropy', metrics=['accuracy'])"
      ],
      "metadata": {
        "id": "RyrZKuoQXbnK"
      },
      "execution_count": null,
      "outputs": []
    },
    {
      "cell_type": "code",
      "source": [
        "history = model.fit(train_generator,\n",
        "                    epochs = 10,  # You might need more epochs for fine-tuning\n",
        "                    validation_data = validation_generator)"
      ],
      "metadata": {
        "colab": {
          "base_uri": "https://localhost:8080/"
        },
        "id": "ZrmjlHfZXo7-",
        "outputId": "d9ffc4db-cdda-4ae7-ddcd-f69ea7106e67"
      },
      "execution_count": null,
      "outputs": [
        {
          "output_type": "stream",
          "name": "stdout",
          "text": [
            "Epoch 1/10\n",
            "31/31 [==============================] - 43s 1s/step - loss: 11.9442 - accuracy: 0.5874 - val_loss: 0.8022 - val_accuracy: 0.6698\n",
            "Epoch 2/10\n",
            "31/31 [==============================] - 30s 950ms/step - loss: 0.4717 - accuracy: 0.8452 - val_loss: 0.4152 - val_accuracy: 0.8491\n",
            "Epoch 3/10\n",
            "31/31 [==============================] - 29s 938ms/step - loss: 0.2681 - accuracy: 0.9093 - val_loss: 0.2157 - val_accuracy: 0.9057\n",
            "Epoch 4/10\n",
            "31/31 [==============================] - 32s 1s/step - loss: 0.2143 - accuracy: 0.9236 - val_loss: 0.1714 - val_accuracy: 0.9340\n",
            "Epoch 5/10\n",
            "31/31 [==============================] - 36s 1s/step - loss: 0.1788 - accuracy: 0.9385 - val_loss: 0.1400 - val_accuracy: 0.9434\n",
            "Epoch 6/10\n",
            "31/31 [==============================] - 30s 933ms/step - loss: 0.1747 - accuracy: 0.9375 - val_loss: 0.0752 - val_accuracy: 1.0000\n",
            "Epoch 7/10\n",
            "31/31 [==============================] - 31s 995ms/step - loss: 0.1405 - accuracy: 0.9508 - val_loss: 0.1106 - val_accuracy: 0.9811\n",
            "Epoch 8/10\n",
            "31/31 [==============================] - 30s 951ms/step - loss: 0.1363 - accuracy: 0.9482 - val_loss: 0.1456 - val_accuracy: 0.9340\n",
            "Epoch 9/10\n",
            "31/31 [==============================] - 30s 957ms/step - loss: 0.1541 - accuracy: 0.9441 - val_loss: 0.1794 - val_accuracy: 0.9340\n",
            "Epoch 10/10\n",
            "31/31 [==============================] - 31s 987ms/step - loss: 0.1752 - accuracy: 0.9446 - val_loss: 0.1692 - val_accuracy: 0.9245\n"
          ]
        }
      ]
    },
    {
      "cell_type": "code",
      "source": [
        "import matplotlib.pyplot as plt\n",
        "\n",
        "plt.plot(history.history['accuracy'],color='red',label='train')\n",
        "plt.plot(history.history['val_accuracy'],color='blue',label='validation')\n",
        "plt.legend()\n",
        "plt.show()"
      ],
      "metadata": {
        "colab": {
          "base_uri": "https://localhost:8080/",
          "height": 430
        },
        "id": "4Sa4qtgnaGqI",
        "outputId": "07b67b13-4a97-414d-8be1-8d8cbaad31d7"
      },
      "execution_count": null,
      "outputs": [
        {
          "output_type": "display_data",
          "data": {
            "text/plain": [
              "<Figure size 640x480 with 1 Axes>"
            ],
            "image/png": "[encoded data removed]"
          },
          "metadata": {}
        }
      ]
    },
    {
      "cell_type": "code",
      "source": [
        "plt.plot(history.history['loss'],color='red',label='train')\n",
        "plt.plot(history.history['val_loss'],color='blue',label='validation')\n",
        "plt.legend()\n",
        "plt.show()"
      ],
      "metadata": {
        "colab": {
          "base_uri": "https://localhost:8080/",
          "height": 430
        },
        "id": "Jyp4lkkgaHPR",
        "outputId": "d8db8204-fe6f-4e12-b68c-ae48a2211f78"
      },
      "execution_count": null,
      "outputs": [
        {
          "output_type": "display_data",
          "data": {
            "text/plain": [
              "<Figure size 640x480 with 1 Axes>"
            ],
            "image/png": "[encoded data removed]"
          },
          "metadata": {}
        }
      ]
    },
    {
      "cell_type": "code",
      "source": [
        "# Save model architecture as JSON\n",
        "model_json = model.to_json()\n",
        "with open(\"CottonDiseaseDetection_model.json\", \"w\") as json_file:\n",
        "    json_file.write(model_json)\n",
        "\n",
        "# Save model weights\n",
        "model.save_weights(\"CottonDiseaseDetection_model.h5\")"
      ],
      "metadata": {
        "id": "iA_1TArEaT43"
      },
      "execution_count": null,
      "outputs": []
    }
  ]
}